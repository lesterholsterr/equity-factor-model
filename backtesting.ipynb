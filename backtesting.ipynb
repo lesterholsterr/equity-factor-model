{
 "cells": [
  {
   "cell_type": "code",
   "execution_count": 1256,
   "id": "319e52f3",
   "metadata": {},
   "outputs": [],
   "source": [
    "import pandas as pd\n",
    "import numpy as np\n",
    "from scipy import stats\n",
    "import statsmodels.api as sm\n",
    "import seaborn as sns\n",
    "import matplotlib.pyplot as plt\n",
    "import math\n",
    "\n",
    "from factor_selection import svd"
   ]
  },
  {
   "cell_type": "code",
   "execution_count": 1257,
   "id": "628f10bd",
   "metadata": {},
   "outputs": [],
   "source": [
    "data = pd.read_parquet('cleaned2.parquet')\n",
    "use_svd = True\n",
    "non_factor_cols = {'permno', 'yyyymm', 'monthid', 'ticker', 'conm', 'gvkey', 'cusip', 'naics', 'gsubind', 'PRC', 'RET', 'SHROUT', 'ret_f1', 'ret_f2', 'ret_f3', 'ret_f4', 'ret_f5', 'ret_f6', 'ret_f7', 'ret_f8', 'ret_f9', 'ret_f10', 'ret_f11', 'ret_f12', 'date_x', 'fdate', 'ret', 'date_y', 'date'}\n",
    "factor_cols = set(data.columns) - non_factor_cols\n",
    "\n",
    "if use_svd:\n",
    "    flip = ['SIR', 'RD_SALE', 'RD_P', 'range_120']\n",
    "    for col in flip:\n",
    "        data[col] = 1-data[col]"
   ]
  },
  {
   "cell_type": "code",
   "execution_count": 1258,
   "id": "0292705b",
   "metadata": {},
   "outputs": [
    {
     "name": "stdout",
     "output_type": "stream",
     "text": [
      "['mean_reversion_signal', 'trend_factor', 'RD_P', 'SIR', 'range_120', 'range_20', 'Accrual', 'FCF_P', 'xret_indsize_std120', 'RD_SALE']\n"
     ]
    }
   ],
   "source": [
    "composite_factors = [\n",
    "    \"mean_reversion_signal\",\n",
    "    # \"rolling_z_score\",\n",
    "    \"trend_factor\",\n",
    "    \"RD_P\",\n",
    "    \"SIR\",\n",
    "    \"range_120\",\n",
    "    \"range_20\",\n",
    "    \"Accrual\",\n",
    "    \"FCF_P\",\n",
    "    \"xret_indsize_std120\",\n",
    "    \"RD_SALE\",\n",
    "    \"SIO\",\n",
    "    \"beta_5y\",\n",
    "    \"beta_3y\",\n",
    "    \"betasq\",\n",
    "    \"beta\",\n",
    "    \"Sale_P\",\n",
    "    \"PM_P\",\n",
    "    \"IV_capm\",\n",
    "    \"xret_indsize_std20\",\n",
    "    \"FCF\",\n",
    "    \"prcdelay1\",\n",
    "    \"ivol\",\n",
    "    \"mdr\",\n",
    "    \"CASHPROD\",\n",
    "    \"ltr36\",\n",
    "    \"pe_ttm\",\n",
    "    \"CAPEF\",\n",
    "    \"CAPEI\",\n",
    "    \"CAPES\",\n",
    "    \"CF_P\"\n",
    "]\n",
    "chosen = composite_factors[:10]\n",
    "print(chosen)"
   ]
  },
  {
   "cell_type": "code",
   "execution_count": 1259,
   "id": "03f17ea8",
   "metadata": {},
   "outputs": [
    {
     "name": "stdout",
     "output_type": "stream",
     "text": [
      "Split at yyyymm: 201501\n"
     ]
    }
   ],
   "source": [
    "unique_dates = sorted(data['yyyymm'].unique())\n",
    "training_ratio = 4/5\n",
    "\n",
    "split_index = int(len(unique_dates) * training_ratio)\n",
    "split_date = unique_dates[split_index]\n",
    "print(f\"Split at yyyymm: {split_date}\")"
   ]
  },
  {
   "cell_type": "markdown",
   "id": "fc11eb9e",
   "metadata": {},
   "source": [
    "### Obtaining Betas From Training"
   ]
  },
  {
   "cell_type": "code",
   "execution_count": 1260,
   "id": "e54d072e",
   "metadata": {},
   "outputs": [],
   "source": [
    "train_data = data[data['yyyymm'] < split_date].copy()\n",
    "\n",
    "if (use_svd):\n",
    "    train_data_SVD, S, signal_weights, scaling_info = svd.svd_factor_extraction(train_data, chosen, n_factors=10)\n",
    "    selected_factors = [col for col  in train_data_SVD.columns if col.startswith('SVD_')]\n",
    "\n",
    "    train_data = pd.concat([train_data, train_data_SVD], axis=1)\n",
    "else:\n",
    "    selected_factors = chosen\n",
    "\n",
    "regression_data = train_data[['permno', 'yyyymm', 'ret_f1'] + selected_factors].copy()\n",
    "stock_groups = regression_data.groupby('permno')\n",
    "results = []\n",
    "min_observations = len(selected_factors) + 2 "
   ]
  },
  {
   "cell_type": "code",
   "execution_count": 1261,
   "id": "5f559353",
   "metadata": {},
   "outputs": [],
   "source": [
    "for permno, group in stock_groups:\n",
    "    group = group.dropna(subset=['ret_f1'] + selected_factors)\n",
    "    \n",
    "    if len(group) >= min_observations:\n",
    "        Y = group['ret_f1']\n",
    "        X = group[selected_factors]\n",
    "        X = sm.add_constant(X)\n",
    "\n",
    "        try:\n",
    "            model = sm.OLS(Y, X, missing='drop').fit()\n",
    "            stock_result = {'permno': permno, 'alpha': model.params.get('const', np.nan)}\n",
    "            for factor in selected_factors:\n",
    "                stock_result[f'{factor}_beta'] = model.params.get(factor, np.nan)\n",
    "            results.append(stock_result)\n",
    "\n",
    "        except Exception as e:\n",
    "            print(f\"Could not run regression for permno {permno}: {e}\")\n",
    "\n",
    "stock_betas_df = pd.DataFrame(results)"
   ]
  },
  {
   "cell_type": "code",
   "execution_count": 1262,
   "id": "035bfbb8",
   "metadata": {},
   "outputs": [],
   "source": [
    "beta_cols = [col for col in stock_betas_df.columns if '_beta' in col]\n",
    "cols_to_average = ['alpha'] + beta_cols\n",
    "average_betas_and_alpha = stock_betas_df[cols_to_average].mean()\n",
    "\n",
    "average_betas_and_alpha_df = pd.DataFrame(average_betas_and_alpha).T\n",
    "average_betas_and_alpha_df.index = ['average']\n"
   ]
  },
  {
   "cell_type": "code",
   "execution_count": 1263,
   "id": "a50476c8",
   "metadata": {},
   "outputs": [
    {
     "name": "stdout",
     "output_type": "stream",
     "text": [
      "            alpha  SVD_Factor_1_beta  SVD_Factor_2_beta  SVD_Factor_3_beta  \\\n",
      "average  0.024557           0.031728           0.106128           0.020459   \n",
      "\n",
      "         SVD_Factor_4_beta  SVD_Factor_5_beta  SVD_Factor_6_beta  \\\n",
      "average          -0.004283           0.002011           0.008918   \n",
      "\n",
      "         SVD_Factor_7_beta  SVD_Factor_8_beta  SVD_Factor_9_beta  \\\n",
      "average          -0.000251           0.010513           0.137796   \n",
      "\n",
      "         SVD_Factor_10_beta  \n",
      "average           -0.004051  \n"
     ]
    }
   ],
   "source": [
    "# flip all negative betas to positive\n",
    "# for col in average_betas_and_alpha_df.columns[1:]:\n",
    "#     if average_betas_and_alpha_df[col].values < 0:\n",
    "#         average_betas_and_alpha_df[col] = -average_betas_and_alpha_df[col]\n",
    "\n",
    "print(average_betas_and_alpha_df)\n",
    "if not use_svd:\n",
    "    average_betas_and_alpha_df['SIR_beta'] = -average_betas_and_alpha_df['SIR_beta']\n",
    "    average_betas_and_alpha_df['RD_SALE_beta'] = -average_betas_and_alpha_df['RD_SALE_beta']\n",
    "    average_betas_and_alpha_df['RD_P_beta'] = -average_betas_and_alpha_df['RD_P_beta']\n",
    "    average_betas_and_alpha_df['range_120_beta'] = -average_betas_and_alpha_df['range_120_beta']"
   ]
  },
  {
   "cell_type": "markdown",
   "id": "d54c5a98",
   "metadata": {},
   "source": [
    "### Backtesting Linear Model\n",
    "r̃_{i,t+1} = â₀ + b̂₁F1_{i,t} + b̂₂F2_{i,t} + ... + b̂_K Fk_{i,t} for stocks i at t, then calculating decile returns"
   ]
  },
  {
   "cell_type": "code",
   "execution_count": 1264,
   "id": "9cd8319d",
   "metadata": {},
   "outputs": [],
   "source": [
    "backtest_data = data[data['yyyymm'] >= split_date].copy()\n",
    "backtest_data['monthid'] = backtest_data['monthid'] - 420\n",
    "\n",
    "if (use_svd):\n",
    "    backtest_data_SVD = svd.apply_svd_factors(backtest_data, chosen, signal_weights, scaling_info, n_factors=10)\n",
    "    backtest_data = pd.concat([backtest_data, backtest_data_SVD], axis=1)"
   ]
  },
  {
   "cell_type": "code",
   "execution_count": 1265,
   "id": "024ffb6d",
   "metadata": {},
   "outputs": [],
   "source": [
    "avg_alpha = average_betas_and_alpha_df['alpha']['average']\n",
    "avg_betas = average_betas_and_alpha_df[[col for col in average_betas_and_alpha_df.columns if '_beta' in col]].iloc[0]\n",
    "avg_betas.index = [col.replace('_beta', '') for col in avg_betas.index]\n",
    "\n",
    "factors_for_prediction = [factor for factor in selected_factors if factor in backtest_data.columns]\n",
    "backtest_data['predicted_ret'] = avg_alpha\n",
    "\n",
    "for factor in factors_for_prediction:\n",
    "    if factor in avg_betas:\n",
    "        backtest_data['predicted_ret'] += backtest_data[factor] * avg_betas[factor]"
   ]
  },
  {
   "cell_type": "code",
   "execution_count": 1266,
   "id": "7f028c97",
   "metadata": {},
   "outputs": [],
   "source": [
    "portfolio_returns = []\n",
    "monthly_groups = backtest_data.groupby('yyyymm')\n",
    "\n",
    "for month, group in monthly_groups:\n",
    "    group = group.dropna(subset=['predicted_ret', 'ret_f1'])\n",
    "\n",
    "    if len(group) < 10:\n",
    "        continue\n",
    "    try:\n",
    "        group_copy = group.copy()\n",
    "        group_copy.loc[:, 'decile'] = pd.qcut(group_copy['predicted_ret'], 10, labels=False, duplicates='drop') + 1\n",
    "        group = group_copy \n",
    "    except ValueError as e:\n",
    "        print(f\"Could not form deciles for month {month} due to: {e}. Skipping.\")\n",
    "        continue\n",
    "\n",
    "    if 1 not in group['decile'].values or 10 not in group['decile'].values:\n",
    "        continue\n",
    "\n",
    "    long_portfolio_ret = group[group['decile'] == 10]['ret_f1'].mean()\n",
    "    short_portfolio_ret = group[group['decile'] == 1]['ret_f1'].mean()\n",
    "\n",
    "    long_stocks = group[group['decile'] == 10]['permno'].unique()\n",
    "    short_stocks = group[group['decile'] == 1]['permno'].unique()\n",
    "\n",
    "    if pd.isna(long_portfolio_ret) or pd.isna(short_portfolio_ret):\n",
    "        continue\n",
    "\n",
    "    hedge_return = long_portfolio_ret - short_portfolio_ret\n",
    "    portfolio_returns.append(\n",
    "        {'yyyymm': month, \n",
    "         'hedge_return': hedge_return, \n",
    "         'long_stocks': long_stocks, \n",
    "         'short_stocks': short_stocks}\n",
    "    )\n",
    "\n",
    "hedge_portfolio_df = pd.DataFrame(portfolio_returns)\n",
    "hedge_portfolio_df['yyyymm'] = pd.to_datetime(hedge_portfolio_df['yyyymm'], format='%Y%m')\n",
    "hedge_portfolio_df = hedge_portfolio_df.set_index('yyyymm')\n",
    "# avoid lookahead bias by shifting the index by one month\n",
    "# make first month returns 0\n",
    "hedge_portfolio_df['hedge_return'] = hedge_portfolio_df['hedge_return'].shift(1)\n",
    "hedge_portfolio_df.loc[hedge_portfolio_df.index[0], 'hedge_return'] = 0.0"
   ]
  },
  {
   "cell_type": "code",
   "execution_count": 1267,
   "id": "b7d8a49d",
   "metadata": {},
   "outputs": [
    {
     "name": "stdout",
     "output_type": "stream",
     "text": [
      "Average number of stocks in hedge portfolio: 56.00\n"
     ]
    }
   ],
   "source": [
    "number_of_stocks = hedge_portfolio_df['long_stocks'].apply(len) + hedge_portfolio_df['short_stocks'].apply(len)\n",
    "average_number_of_stocks = number_of_stocks.mean()\n",
    "print(f\"Average number of stocks in hedge portfolio: {average_number_of_stocks:.2f}\")"
   ]
  },
  {
   "cell_type": "code",
   "execution_count": 1268,
   "id": "eb0dc517",
   "metadata": {},
   "outputs": [
    {
     "data": {
      "image/png": "[encoded data removed]",
      "text/plain": [
       "<Figure size 1000x600 with 1 Axes>"
      ]
     },
     "metadata": {},
     "output_type": "display_data"
    },
    {
     "data": {
      "image/png": "[encoded data removed]",
      "text/plain": [
       "<Figure size 640x480 with 1 Axes>"
      ]
     },
     "metadata": {},
     "output_type": "display_data"
    }
   ],
   "source": [
    "hedge_portfolio_df['cumulative_return'] = (1 + hedge_portfolio_df['hedge_return']).cumprod() - 1\n",
    "plt.figure(figsize=(10, 6))\n",
    "hedge_portfolio_df['cumulative_return'].plot(title='Cumulative Hedge Portfolio Returns (Long Top Decile - Short Bottom Decile)')\n",
    "plt.xlabel('Date)')\n",
    "plt.ylabel('Cumulative Return')\n",
    "plt.grid(True)\n",
    "plt.show()\n",
    "\n",
    "hedge_portfolio_df['hedge_return'].hist(bins=50, alpha=0.7, color='blue')\n",
    "plt.title('Distribution of Hedge Portfolio Returns')\n",
    "plt.xlabel('Return')\n",
    "plt.ylabel('Frequency')\n",
    "plt.grid(True)\n",
    "plt.show()"
   ]
  },
  {
   "cell_type": "markdown",
   "id": "b39e8d4d",
   "metadata": {},
   "source": [
    "### Analysis \n",
    "(1) Raw return \n",
    "(2)Sharpe ratio\n",
    "(3) CAPM alpha\n",
    "(4) Fama-French 3-Factor alpha\n",
    "(5) Information Ratio\n",
    "using 3-factor model"
   ]
  },
  {
   "cell_type": "code",
   "execution_count": 1269,
   "id": "b43dafdd",
   "metadata": {},
   "outputs": [],
   "source": [
    "ff_factors = pd.read_sas('ff_factors_monthly.sas7bdat')\n",
    "ff_factors['monthid'] = ff_factors['DATEFF'].dt.strftime('%Y%m').astype(int)\n",
    "ff_factors.set_index('monthid', inplace=True)"
   ]
  },
  {
   "cell_type": "code",
   "execution_count": 1270,
   "id": "5e3bbd98",
   "metadata": {},
   "outputs": [
    {
     "name": "stdout",
     "output_type": "stream",
     "text": [
      "Analytics:\n",
      "raw_return: 0.1106\n",
      "sharpe_ratio: 0.8348\n",
      "capm_alpha: 0.0536\n",
      "ff3_alpha: 0.0508\n",
      "information_ratio: -0.1229\n"
     ]
    }
   ],
   "source": [
    "hedge_portfolio_df_copy = hedge_portfolio_df.copy()\n",
    "hedge_portfolio_df_copy['monthid'] = hedge_portfolio_df_copy.index.strftime('%Y%m').astype(int)\n",
    "\n",
    "hedge_portfolio_df_copy = pd.merge(hedge_portfolio_df_copy, ff_factors, on='monthid', how='left')\n",
    "hedge_portfolio_df_copy.set_index('monthid', inplace=True)\n",
    "\n",
    "# Calculate excess returns\n",
    "hedge_portfolio_df_copy['excess_return'] = hedge_portfolio_df_copy['hedge_return'] - hedge_portfolio_df_copy['RF']\n",
    "\n",
    "analytics = {}\n",
    "\n",
    "analytics['raw_return'] = hedge_portfolio_df_copy['hedge_return'].mean() * 12\n",
    "analytics['sharpe_ratio'] = (hedge_portfolio_df_copy['excess_return'].mean() * 12) / (hedge_portfolio_df_copy['excess_return'].std() * np.sqrt(12))\n",
    "\n",
    "# CAPM\n",
    "X = sm.add_constant(hedge_portfolio_df_copy['MKTRF'])\n",
    "capm_model = sm.OLS(hedge_portfolio_df_copy['excess_return'], X).fit()\n",
    "analytics['capm_alpha'] = capm_model.params['const'] * 12\n",
    "\n",
    "# FF3\n",
    "X_ff3 = sm.add_constant(hedge_portfolio_df_copy[['MKTRF', 'SMB', 'HML']])\n",
    "ff3_model = sm.OLS(hedge_portfolio_df_copy['excess_return'], X_ff3).fit()\n",
    "analytics['ff3_alpha'] = ff3_model.params['const'] * 12\n",
    "\n",
    "# Information Ratio\n",
    "hedge_portfolio_df_copy['benchmark_return'] = hedge_portfolio_df_copy['MKTRF'] + hedge_portfolio_df_copy['RF']\n",
    "analytics['information_ratio'] = ((hedge_portfolio_df_copy['excess_return'] - hedge_portfolio_df_copy['benchmark_return']).mean() * 12) / ((hedge_portfolio_df_copy['excess_return'] - hedge_portfolio_df_copy['benchmark_return']).std() * np.sqrt(12))\n",
    "\n",
    "print(\"Analytics:\")\n",
    "for key, value in analytics.items():\n",
    "    print(f\"{key}: {value:.4f}\")"
   ]
  }
 ],
 "metadata": {
  "kernelspec": {
   "display_name": "base",
   "language": "python",
   "name": "python3"
  },
  "language_info": {
   "codemirror_mode": {
    "name": "ipython",
    "version": 3
   },
   "file_extension": ".py",
   "mimetype": "text/x-python",
   "name": "python",
   "nbconvert_exporter": "python",
   "pygments_lexer": "ipython3",
   "version": "3.12.4"
  }
 },
 "nbformat": 4,
 "nbformat_minor": 5
}
