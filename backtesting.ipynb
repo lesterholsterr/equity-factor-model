{
 "cells": [
  {
   "cell_type": "code",
   "execution_count": 89,
   "id": "319e52f3",
   "metadata": {},
   "outputs": [],
   "source": [
    "import pandas as pd\n",
    "import numpy as np\n",
    "from scipy import stats\n",
    "import statsmodels.api as sm\n",
    "import seaborn as sns\n",
    "import matplotlib.pyplot as plt"
   ]
  },
  {
   "cell_type": "code",
   "execution_count": 90,
   "id": "628f10bd",
   "metadata": {},
   "outputs": [],
   "source": [
    "data = pd.read_parquet('cleaned.parquet')\n",
    "\n",
    "non_factor_cols = {'permno', 'yyyymm', 'monthid', 'ticker', 'conm', 'gvkey', 'cusip', 'naics', 'gsubind', 'PRC', 'RET', 'SHROUT', 'ret_f1', 'ret_f2', 'ret_f3', 'ret_f4', 'ret_f5', 'ret_f6', 'ret_f7', 'ret_f8', 'ret_f9', 'ret_f10', 'ret_f11', 'ret_f12', 'date_x', 'fdate', 'ret', 'date_y', 'date'}\n",
    "factor_cols = set(data.columns) - non_factor_cols"
   ]
  },
  {
   "cell_type": "code",
   "execution_count": null,
   "id": "0292705b",
   "metadata": {},
   "outputs": [],
   "source": [
    "# need this to be inputted\n",
    "# selected_factors = ['mktcap', 'trend_factor', 'ltr60', 'rolling_z_score', 'tail_2y', 'xret_20', 'DiVYield', 'ivol', 'MoneyFlowIndex_20', 'AbsAccrual', 'EP', 'NOA', 'KDJ_20', 'dHHI', 'DNOA', 'RDG', 'SECUDEBT', 'RD_P']\n",
    "\n",
    "# Trying top 10 factors\n",
    "selected_factors = ['mean_reversion_signal', 'RD_P', 'trend_factor', 'Accrual', 'range_120', 'range_20', 'xret_indsize_std120', 'RD_SALE', 'rolling_z_score', 'FCF_P']"
   ]
  },
  {
   "cell_type": "markdown",
   "id": "fc11eb9e",
   "metadata": {},
   "source": [
    "### Obtaining Betas From Training"
   ]
  },
  {
   "cell_type": "code",
   "execution_count": 92,
   "id": "e54d072e",
   "metadata": {},
   "outputs": [],
   "source": [
    "train_data = data[data['yyyymm'] < 201501].copy()\n",
    "\n",
    "train_factors = train_data[['permno', 'yyyymm'] + selected_factors].copy()\n",
    "train_returns = train_data[['permno', 'yyyymm', 'ret_f1']].copy()\n",
    "\n",
    "regression_data = pd.merge(train_factors, train_returns, on=['permno', 'yyyymm'], how='inner')\n",
    "stock_groups = regression_data.groupby('permno')\n",
    "results = []\n",
    "min_observations = len(selected_factors) + 2 "
   ]
  },
  {
   "cell_type": "code",
   "execution_count": 93,
   "id": "5f559353",
   "metadata": {},
   "outputs": [],
   "source": [
    "for permno, group in stock_groups:\n",
    "    group = group.dropna(subset=['ret_f1'] + selected_factors) # Drop rows with NaNs in relevant columns\n",
    "    \n",
    "    if len(group) >= min_observations:\n",
    "        Y = group['ret_f1']\n",
    "        X = group[selected_factors]\n",
    "        X = sm.add_constant(X)\n",
    "\n",
    "        try:\n",
    "            model = sm.OLS(Y, X, missing='drop').fit()\n",
    "            stock_result = {'permno': permno, 'alpha': model.params.get('const', np.nan)}\n",
    "            for factor in selected_factors:\n",
    "                stock_result[f'{factor}_beta'] = model.params.get(factor, np.nan)\n",
    "            results.append(stock_result)\n",
    "\n",
    "        except Exception as e:\n",
    "            print(f\"Could not run regression for permno {permno}: {e}\")\n",
    "\n",
    "stock_betas_df = pd.DataFrame(results)"
   ]
  },
  {
   "cell_type": "code",
   "execution_count": 94,
   "id": "035bfbb8",
   "metadata": {},
   "outputs": [],
   "source": [
    "beta_cols = [col for col in stock_betas_df.columns if '_beta' in col]\n",
    "cols_to_average = ['alpha'] + beta_cols\n",
    "average_betas_and_alpha = stock_betas_df[cols_to_average].mean()\n",
    "\n",
    "average_betas_and_alpha_df = pd.DataFrame(average_betas_and_alpha).T\n",
    "average_betas_and_alpha_df.index = ['average']"
   ]
  },
  {
   "cell_type": "code",
   "execution_count": 95,
   "id": "a50476c8",
   "metadata": {},
   "outputs": [
    {
     "name": "stdout",
     "output_type": "stream",
     "text": [
      "           alpha  mean_reversion_signal_beta  RD_P_beta  trend_factor_beta  \\\n",
      "average  0.18462                    0.000129  -0.086221           0.006028   \n",
      "\n",
      "         Accrual_beta  range_120_beta  range_20_beta  \\\n",
      "average      0.000308       -0.003293       0.004164   \n",
      "\n",
      "         xret_indsize_std120_beta  RD_SALE_beta  rolling_z_score_beta  \\\n",
      "average                   0.01217      0.216653             -0.002226   \n",
      "\n",
      "         FCF_P_beta  \n",
      "average    0.020057  \n"
     ]
    }
   ],
   "source": [
    "print(average_betas_and_alpha_df)"
   ]
  },
  {
   "cell_type": "markdown",
   "id": "d54c5a98",
   "metadata": {},
   "source": [
    "### Backtesting Linear Model\n",
    "r̃_{i,t} = â₀ + b̂₁F1_{i,t} + b̂₂F2_{i,t} + ... + b̂_K Fk_{i,t} for stocks i at t, then calculating decile returns"
   ]
  },
  {
   "cell_type": "code",
   "execution_count": 96,
   "id": "9cd8319d",
   "metadata": {},
   "outputs": [],
   "source": [
    "backtest_data = data[data['yyyymm'] >= 201501].copy()\n",
    "backtest_data['monthid'] = backtest_data['monthid'] - 420"
   ]
  },
  {
   "cell_type": "code",
   "execution_count": 97,
   "id": "024ffb6d",
   "metadata": {},
   "outputs": [],
   "source": [
    "avg_alpha = average_betas_and_alpha_df['alpha']['average']\n",
    "avg_betas = average_betas_and_alpha_df[[col for col in average_betas_and_alpha_df.columns if '_beta' in col]].iloc[0]\n",
    "avg_betas.index = [col.replace('_beta', '') for col in avg_betas.index]\n",
    "\n",
    "factors_for_prediction = [factor for factor in selected_factors if factor in backtest_data.columns]\n",
    "backtest_data['predicted_ret'] = avg_alpha\n",
    "\n",
    "for factor in factors_for_prediction:\n",
    "    if factor in avg_betas:\n",
    "        backtest_data['predicted_ret'] += backtest_data[factor] * avg_betas[factor]"
   ]
  },
  {
   "cell_type": "code",
   "execution_count": 98,
   "id": "7f028c97",
   "metadata": {},
   "outputs": [],
   "source": [
    "portfolio_returns = []\n",
    "monthly_groups = backtest_data.groupby('yyyymm')\n",
    "\n",
    "for month, group in monthly_groups:\n",
    "    group = group.dropna(subset=['predicted_ret', 'ret_f1'])\n",
    "\n",
    "    if len(group) < 10:\n",
    "        continue\n",
    "    try:\n",
    "        group_copy = group.copy()\n",
    "        group_copy.loc[:, 'decile'] = pd.qcut(group_copy['predicted_ret'], 10, labels=False, duplicates='drop') + 1\n",
    "        group = group_copy \n",
    "    except ValueError as e:\n",
    "        print(f\"Could not form deciles for month {month} due to: {e}. Skipping.\")\n",
    "        continue\n",
    "\n",
    "    if 1 not in group['decile'].values or 10 not in group['decile'].values:\n",
    "        continue\n",
    "\n",
    "    long_portfolio_ret = group[group['decile'] == 10]['ret_f1'].mean()\n",
    "    short_portfolio_ret = group[group['decile'] == 1]['ret_f1'].mean()\n",
    "\n",
    "    if pd.isna(long_portfolio_ret) or pd.isna(short_portfolio_ret):\n",
    "        continue\n",
    "\n",
    "    hedge_return = long_portfolio_ret - short_portfolio_ret\n",
    "    portfolio_returns.append({'yyyymm': month, 'hedge_return': hedge_return})\n",
    "\n",
    "hedge_portfolio_df = pd.DataFrame(portfolio_returns)\n",
    "hedge_portfolio_df['yyyymm'] = pd.to_datetime(hedge_portfolio_df['yyyymm'], format='%Y%m')\n",
    "hedge_portfolio_df = hedge_portfolio_df.set_index('yyyymm')"
   ]
  },
  {
   "cell_type": "code",
   "execution_count": 99,
   "id": "eb0dc517",
   "metadata": {},
   "outputs": [
    {
     "data": {
      "image/png": "[encoded data removed]",
      "text/plain": [
       "<Figure size 1000x600 with 1 Axes>"
      ]
     },
     "metadata": {},
     "output_type": "display_data"
    }
   ],
   "source": [
    "hedge_portfolio_df['cumulative_return'] = (1 + hedge_portfolio_df['hedge_return']).cumprod() - 1\n",
    "plt.figure(figsize=(10, 6))\n",
    "hedge_portfolio_df['cumulative_return'].plot(title='Cumulative Hedge Portfolio Returns (Long Top Decile - Short Bottom Decile)')\n",
    "plt.xlabel('Date)')\n",
    "plt.ylabel('Cumulative Return')\n",
    "plt.grid(True)\n",
    "plt.show()"
   ]
  },
  {
   "cell_type": "markdown",
   "id": "b39e8d4d",
   "metadata": {},
   "source": [
    "### Analysis \n",
    "(1) Raw return \n",
    "(2)Sharpe ratio\n",
    "(3) CAPM alpha\n",
    "(4) Fama-French 3-Factor alpha\n",
    "(5) Information Ratio\n",
    "using 3-factor model"
   ]
  },
  {
   "cell_type": "code",
   "execution_count": 100,
   "id": "0ce06a4e",
   "metadata": {},
   "outputs": [
    {
     "data": {
      "text/html": [
       "<div>\n",
       "<style scoped>\n",
       "    .dataframe tbody tr th:only-of-type {\n",
       "        vertical-align: middle;\n",
       "    }\n",
       "\n",
       "    .dataframe tbody tr th {\n",
       "        vertical-align: top;\n",
       "    }\n",
       "\n",
       "    .dataframe thead th {\n",
       "        text-align: right;\n",
       "    }\n",
       "</style>\n",
       "<table border=\"1\" class=\"dataframe\">\n",
       "  <thead>\n",
       "    <tr style=\"text-align: right;\">\n",
       "      <th></th>\n",
       "      <th>hedge_return</th>\n",
       "      <th>cumulative_return</th>\n",
       "    </tr>\n",
       "    <tr>\n",
       "      <th>yyyymm</th>\n",
       "      <th></th>\n",
       "      <th></th>\n",
       "    </tr>\n",
       "  </thead>\n",
       "  <tbody>\n",
       "    <tr>\n",
       "      <th>2015-01-01</th>\n",
       "      <td>0.098442</td>\n",
       "      <td>0.098442</td>\n",
       "    </tr>\n",
       "    <tr>\n",
       "      <th>2015-02-01</th>\n",
       "      <td>-0.014479</td>\n",
       "      <td>0.082537</td>\n",
       "    </tr>\n",
       "    <tr>\n",
       "      <th>2015-03-01</th>\n",
       "      <td>0.041174</td>\n",
       "      <td>0.127110</td>\n",
       "    </tr>\n",
       "    <tr>\n",
       "      <th>2015-04-01</th>\n",
       "      <td>0.039050</td>\n",
       "      <td>0.171124</td>\n",
       "    </tr>\n",
       "    <tr>\n",
       "      <th>2015-05-01</th>\n",
       "      <td>0.003455</td>\n",
       "      <td>0.175170</td>\n",
       "    </tr>\n",
       "  </tbody>\n",
       "</table>\n",
       "</div>"
      ],
      "text/plain": [
       "            hedge_return  cumulative_return\n",
       "yyyymm                                     \n",
       "2015-01-01      0.098442           0.098442\n",
       "2015-02-01     -0.014479           0.082537\n",
       "2015-03-01      0.041174           0.127110\n",
       "2015-04-01      0.039050           0.171124\n",
       "2015-05-01      0.003455           0.175170"
      ]
     },
     "execution_count": 100,
     "metadata": {},
     "output_type": "execute_result"
    }
   ],
   "source": [
    "hedge_portfolio_df.head()"
   ]
  },
  {
   "cell_type": "code",
   "execution_count": 101,
   "id": "b43dafdd",
   "metadata": {},
   "outputs": [
    {
     "data": {
      "text/html": [
       "<div>\n",
       "<style scoped>\n",
       "    .dataframe tbody tr th:only-of-type {\n",
       "        vertical-align: middle;\n",
       "    }\n",
       "\n",
       "    .dataframe tbody tr th {\n",
       "        vertical-align: top;\n",
       "    }\n",
       "\n",
       "    .dataframe thead th {\n",
       "        text-align: right;\n",
       "    }\n",
       "</style>\n",
       "<table border=\"1\" class=\"dataframe\">\n",
       "  <thead>\n",
       "    <tr style=\"text-align: right;\">\n",
       "      <th></th>\n",
       "      <th>DATEFF</th>\n",
       "      <th>SMB</th>\n",
       "      <th>HML</th>\n",
       "      <th>MKTRF</th>\n",
       "      <th>RF</th>\n",
       "      <th>UMD</th>\n",
       "    </tr>\n",
       "    <tr>\n",
       "      <th>monthid</th>\n",
       "      <th></th>\n",
       "      <th></th>\n",
       "      <th></th>\n",
       "      <th></th>\n",
       "      <th></th>\n",
       "      <th></th>\n",
       "    </tr>\n",
       "  </thead>\n",
       "  <tbody>\n",
       "    <tr>\n",
       "      <th>199501</th>\n",
       "      <td>1995-01-31</td>\n",
       "      <td>-0.0350</td>\n",
       "      <td>0.0257</td>\n",
       "      <td>0.0180</td>\n",
       "      <td>0.0042</td>\n",
       "      <td>-0.0181</td>\n",
       "    </tr>\n",
       "    <tr>\n",
       "      <th>199502</th>\n",
       "      <td>1995-02-28</td>\n",
       "      <td>-0.0066</td>\n",
       "      <td>0.0108</td>\n",
       "      <td>0.0363</td>\n",
       "      <td>0.0040</td>\n",
       "      <td>-0.0039</td>\n",
       "    </tr>\n",
       "    <tr>\n",
       "      <th>199503</th>\n",
       "      <td>1995-03-31</td>\n",
       "      <td>-0.0016</td>\n",
       "      <td>-0.0215</td>\n",
       "      <td>0.0219</td>\n",
       "      <td>0.0046</td>\n",
       "      <td>0.0043</td>\n",
       "    </tr>\n",
       "    <tr>\n",
       "      <th>199504</th>\n",
       "      <td>1995-04-28</td>\n",
       "      <td>-0.0049</td>\n",
       "      <td>0.0171</td>\n",
       "      <td>0.0211</td>\n",
       "      <td>0.0044</td>\n",
       "      <td>0.0179</td>\n",
       "    </tr>\n",
       "    <tr>\n",
       "      <th>199505</th>\n",
       "      <td>1995-05-31</td>\n",
       "      <td>-0.0255</td>\n",
       "      <td>0.0229</td>\n",
       "      <td>0.0290</td>\n",
       "      <td>0.0054</td>\n",
       "      <td>-0.0042</td>\n",
       "    </tr>\n",
       "  </tbody>\n",
       "</table>\n",
       "</div>"
      ],
      "text/plain": [
       "            DATEFF     SMB     HML   MKTRF      RF     UMD\n",
       "monthid                                                   \n",
       "199501  1995-01-31 -0.0350  0.0257  0.0180  0.0042 -0.0181\n",
       "199502  1995-02-28 -0.0066  0.0108  0.0363  0.0040 -0.0039\n",
       "199503  1995-03-31 -0.0016 -0.0215  0.0219  0.0046  0.0043\n",
       "199504  1995-04-28 -0.0049  0.0171  0.0211  0.0044  0.0179\n",
       "199505  1995-05-31 -0.0255  0.0229  0.0290  0.0054 -0.0042"
      ]
     },
     "execution_count": 101,
     "metadata": {},
     "output_type": "execute_result"
    }
   ],
   "source": [
    "ff_factors = pd.read_sas('ff_factors_monthly.sas7bdat')\n",
    "ff_factors['monthid'] = ff_factors['DATEFF'].dt.strftime('%Y%m').astype(int)\n",
    "ff_factors.set_index('monthid', inplace=True)\n",
    "ff_factors.head()"
   ]
  },
  {
   "cell_type": "code",
   "execution_count": 102,
   "id": "5e3bbd98",
   "metadata": {},
   "outputs": [
    {
     "name": "stdout",
     "output_type": "stream",
     "text": [
      "Analytics:\n",
      "raw_return: 0.0834\n",
      "sharpe_ratio: 0.5240\n",
      "capm_alpha: 0.0852\n",
      "ff3_alpha: 0.0787\n",
      "information_ratio: -0.2187\n"
     ]
    }
   ],
   "source": [
    "hedge_portfolio_df_copy = hedge_portfolio_df.copy()\n",
    "hedge_portfolio_df_copy['monthid'] = hedge_portfolio_df_copy.index.strftime('%Y%m').astype(int)\n",
    "\n",
    "hedge_portfolio_df_copy = pd.merge(hedge_portfolio_df_copy, ff_factors, on='monthid', how='left')\n",
    "hedge_portfolio_df_copy.set_index('monthid', inplace=True)\n",
    "\n",
    "# Calculate excess returns\n",
    "hedge_portfolio_df_copy['excess_return'] = hedge_portfolio_df_copy['hedge_return'] - hedge_portfolio_df_copy['RF']\n",
    "\n",
    "analytics = {}\n",
    "\n",
    "analytics['raw_return'] = hedge_portfolio_df_copy['hedge_return'].mean() * 12\n",
    "analytics['sharpe_ratio'] = (hedge_portfolio_df_copy['excess_return'].mean() * 12) / (hedge_portfolio_df_copy['excess_return'].std() * np.sqrt(12))\n",
    "\n",
    "# CAPM\n",
    "X = sm.add_constant(hedge_portfolio_df_copy['MKTRF'])\n",
    "capm_model = sm.OLS(hedge_portfolio_df_copy['excess_return'], X).fit()\n",
    "analytics['capm_alpha'] = capm_model.params['const'] * 12\n",
    "\n",
    "# FF3\n",
    "X_ff3 = sm.add_constant(hedge_portfolio_df_copy[['MKTRF', 'SMB', 'HML']])\n",
    "ff3_model = sm.OLS(hedge_portfolio_df_copy['excess_return'], X_ff3).fit()\n",
    "analytics['ff3_alpha'] = ff3_model.params['const'] * 12\n",
    "\n",
    "# Information Ratio\n",
    "hedge_portfolio_df_copy['benchmark_return'] = hedge_portfolio_df_copy['MKTRF'] + hedge_portfolio_df_copy['RF']\n",
    "analytics['information_ratio'] = ((hedge_portfolio_df_copy['excess_return'] - hedge_portfolio_df_copy['benchmark_return']).mean() * 12) / ((hedge_portfolio_df_copy['excess_return'] - hedge_portfolio_df_copy['benchmark_return']).std() * np.sqrt(12))\n",
    "\n",
    "print(\"Analytics:\")\n",
    "for key, value in analytics.items():\n",
    "    print(f\"{key}: {value:.4f}\")"
   ]
  }
 ],
 "metadata": {
  "kernelspec": {
   "display_name": "base",
   "language": "python",
   "name": "python3"
  },
  "language_info": {
   "codemirror_mode": {
    "name": "ipython",
    "version": 3
   },
   "file_extension": ".py",
   "mimetype": "text/x-python",
   "name": "python",
   "nbconvert_exporter": "python",
   "pygments_lexer": "ipython3",
   "version": "3.12.4"
  }
 },
 "nbformat": 4,
 "nbformat_minor": 5
}
